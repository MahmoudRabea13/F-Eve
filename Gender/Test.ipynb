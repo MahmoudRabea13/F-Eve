{
 "cells": [
  {
   "cell_type": "code",
   "execution_count": null,
   "id": "bdbad510",
   "metadata": {},
   "outputs": [
    {
     "name": "stdout",
     "output_type": "stream",
     "text": [
      "WARNING:tensorflow:From c:\\Users\\Mahmoud\\AppData\\Local\\Programs\\Python\\Python311\\Lib\\site-packages\\keras\\src\\losses.py:2976: The name tf.losses.sparse_softmax_cross_entropy is deprecated. Please use tf.compat.v1.losses.sparse_softmax_cross_entropy instead.\n",
      "\n"
     ]
    }
   ],
   "source": [
    "import numpy as np\n",
    "import cv2\n",
    "from tensorflow.keras.models import load_model\n",
    "\n"
   ]
  },
  {
   "cell_type": "code",
   "execution_count": null,
   "id": "0197853c",
   "metadata": {},
   "outputs": [
    {
     "name": "stdout",
     "output_type": "stream",
     "text": [
      "WARNING:tensorflow:From c:\\Users\\Mahmoud\\AppData\\Local\\Programs\\Python\\Python311\\Lib\\site-packages\\keras\\src\\backend.py:1398: The name tf.executing_eagerly_outside_functions is deprecated. Please use tf.compat.v1.executing_eagerly_outside_functions instead.\n",
      "\n",
      "WARNING:tensorflow:From c:\\Users\\Mahmoud\\AppData\\Local\\Programs\\Python\\Python311\\Lib\\site-packages\\keras\\src\\layers\\pooling\\max_pooling2d.py:161: The name tf.nn.max_pool is deprecated. Please use tf.nn.max_pool2d instead.\n",
      "\n"
     ]
    }
   ],
   "source": [
    "# Load the trained model\n",
    "model = load_model(\"squeeze_92.h5\")"
   ]
  },
  {
   "cell_type": "code",
   "execution_count": 2,
   "id": "164f7e4c",
   "metadata": {},
   "outputs": [],
   "source": [
    "# Label map\n",
    "label_map = {0: \"Male\", 1: \"Female\"}\n",
    "\n",
    "# Prediction function\n",
    "def predict_gender(image_path, model, img_size=(112, 112)):\n",
    "    # Load in grayscale\n",
    "    img = cv2.imread(image_path, cv2.IMREAD_GRAYSCALE)\n",
    "    if img is None:\n",
    "        raise ValueError(\"Image not found or unreadable.\")\n",
    "\n",
    "    # Resize and preprocess\n",
    "    img = cv2.resize(img, img_size)\n",
    "    img = img / 255.0\n",
    "    img = np.expand_dims(img, axis=-1)    # Add channel\n",
    "    img = np.expand_dims(img, axis=0)     # Add batch dimension\n",
    "\n",
    "    # Predict\n",
    "    pred_prob = model.predict(img)[0][0]\n",
    "    pred_class = int(pred_prob > 0.5)\n",
    "\n",
    "    print(f\"Predicted Gender: {label_map[pred_class]} (Confidence: {pred_prob:.2f})\")\n",
    "\n",
    "    return pred_class, pred_prob"
   ]
  },
  {
   "cell_type": "code",
   "execution_count": 15,
   "id": "df68a549",
   "metadata": {},
   "outputs": [
    {
     "name": "stdout",
     "output_type": "stream",
     "text": [
      "1/1 [==============================] - 0s 18ms/step\n",
      "Predicted Gender: Female (Confidence: 0.94)\n"
     ]
    },
    {
     "data": {
      "text/plain": [
       "(1, 0.9352444)"
      ]
     },
     "execution_count": 15,
     "metadata": {},
     "output_type": "execute_result"
    }
   ],
   "source": [
    "predict_gender(\"femaleafter.png\", model)"
   ]
  }
 ],
 "metadata": {
  "kernelspec": {
   "display_name": "Python 3",
   "language": "python",
   "name": "python3"
  },
  "language_info": {
   "codemirror_mode": {
    "name": "ipython",
    "version": 3
   },
   "file_extension": ".py",
   "mimetype": "text/x-python",
   "name": "python",
   "nbconvert_exporter": "python",
   "pygments_lexer": "ipython3",
   "version": "3.11.8"
  }
 },
 "nbformat": 4,
 "nbformat_minor": 5
}
